{
 "cells": [
  {
   "cell_type": "markdown",
   "id": "d6daaa37-9c78-4d74-ba8a-a05c57c44aaf",
   "metadata": {},
   "source": [
    "https://sdsawtelle.github.io/blog/output/boardgamegeek-data-scraping.html"
   ]
  },
  {
   "cell_type": "code",
   "execution_count": 2,
   "id": "7a3130ff-0389-477f-9d00-1a84a3b29834",
   "metadata": {},
   "outputs": [],
   "source": [
    "import requests\n",
    "from bs4 import BeautifulSoup\n",
    "import scipy.io\n",
    "import matplotlib.pyplot as plt\n",
    "import matplotlib \n",
    "import pandas as pd\n",
    "import numpy as np\n",
    "import pickle\n",
    "from time import sleep\n",
    "import timeit\n",
    "\n",
    "# import snips as snp  # my snippets\n",
    "# snp.prettyplot(matplotlib)  # my aesthetic preferences for plotting\n",
    "%matplotlib inline"
   ]
  },
  {
   "cell_type": "code",
   "execution_count": null,
   "id": "9dac6b27-9aeb-43a5-a09a-64741a6f5334",
   "metadata": {},
   "outputs": [],
   "source": []
  },
  {
   "cell_type": "code",
   "execution_count": 3,
   "id": "b8ef5339-fc22-4472-9bb1-d777db7f9e28",
   "metadata": {},
   "outputs": [],
   "source": [
    "def req(msg, slp=0.2):\n",
    "    \"\"\"Make fault tolerant BGG server requests.\"\"\"\n",
    "    # Sleep to make sure you are not pinging the server to frequently\n",
    "    sleep(slp)\n",
    "    # Keep trying requests until status-code is 200\n",
    "    status_code = 500\n",
    "    while status_code != 200:\n",
    "        sleep(slp)\n",
    "        try:\n",
    "            r = requests.get(msg)\n",
    "            status_code = r.status_code\n",
    "            # if status_code != 200:\n",
    "                # print(\"Server Error! Response Code %i. Retrying...\" % (r.status_code))\n",
    "        except:\n",
    "            # print(\"An exception has occurred, probably a momentory loss of connection. Waiting three seconds...\")\n",
    "            sleep(3)\n",
    "    return r\n"
   ]
  },
  {
   "cell_type": "code",
   "execution_count": 4,
   "id": "6babacac-7b8d-4b4d-8181-eaab1cb99d9a",
   "metadata": {},
   "outputs": [
    {
     "name": "stdout",
     "output_type": "stream",
     "text": [
      "200\n"
     ]
    }
   ],
   "source": [
    "r = requests.get(\"http://www.boardgamegeek.com/xmlapi2/user?name=Zazz&top=1\")\n",
    "soup = BeautifulSoup(r.text, \"xml\")  # Use the xml parser for API responses and the html_parser for scraping\n",
    "print(r.status_code)  # 404 not found and the like. Hopefully 200!"
   ]
  },
  {
   "cell_type": "code",
   "execution_count": 7,
   "id": "19257212-8d95-44f1-995b-b4368a8d6077",
   "metadata": {},
   "outputs": [],
   "source": [
    "def request(msg, slp=1):\n",
    "    '''A wrapper to make robust https requests.'''\n",
    "    status_code = 500  # Want to get a status-code of 200\n",
    "    while status_code != 200:\n",
    "        sleep(slp)  # Don't ping the server too often\n",
    "        try:\n",
    "            r = requests.get(msg)\n",
    "            status_code = r.status_code\n",
    "            if status_code != 200:\n",
    "                print(\"Server Error! Response Code %i. Retrying...\" % (r.status_code))\n",
    "        except:\n",
    "            print(\"An exception has occurred, probably a momentory loss of connection. Waiting one seconds...\")\n",
    "            sleep(1)\n",
    "    return r"
   ]
  },
  {
   "cell_type": "code",
   "execution_count": 8,
   "id": "8df969b6-eb97-41db-a1fd-33d2eb68c262",
   "metadata": {},
   "outputs": [
    {
     "name": "stdout",
     "output_type": "stream",
     "text": [
      "Page 1 scraped, minimum number of ratings was 31587\n",
      "Page 2 scraped, minimum number of ratings was 20591\n",
      "Page 3 scraped, minimum number of ratings was 15438\n",
      "Page 4 scraped, minimum number of ratings was 11954\n",
      "Page 5 scraped, minimum number of ratings was 10065\n",
      "Page 6 scraped, minimum number of ratings was 8352\n",
      "Page 7 scraped, minimum number of ratings was 7150\n",
      "Page 8 scraped, minimum number of ratings was 6311\n",
      "Page 9 scraped, minimum number of ratings was 5667\n",
      "Page 10 scraped, minimum number of ratings was 5069\n"
     ]
    },
    {
     "ename": "ValueError",
     "evalue": "cannot convert float NaN to integer",
     "output_type": "error",
     "traceback": [
      "\u001b[0;31m---------------------------------------------------------------------------\u001b[0m",
      "\u001b[0;31mValueError\u001b[0m                                Traceback (most recent call last)",
      "Cell \u001b[0;32mIn [8], line 35\u001b[0m\n\u001b[1;32m     33\u001b[0m \u001b[38;5;66;03m# Concatenate the results of this page to the master dataframe\u001b[39;00m\n\u001b[1;32m     34\u001b[0m min_nrate \u001b[38;5;241m=\u001b[39m df[\u001b[38;5;124m\"\u001b[39m\u001b[38;5;124mnrate\u001b[39m\u001b[38;5;124m\"\u001b[39m]\u001b[38;5;241m.\u001b[39mmin()  \u001b[38;5;66;03m# The smallest number of ratings of any game on the page\u001b[39;00m\n\u001b[0;32m---> 35\u001b[0m \u001b[38;5;28mprint\u001b[39m(\u001b[38;5;124;43m\"\u001b[39;49m\u001b[38;5;124;43mPage \u001b[39;49m\u001b[38;5;132;43;01m%i\u001b[39;49;00m\u001b[38;5;124;43m scraped, minimum number of ratings was \u001b[39;49m\u001b[38;5;132;43;01m%i\u001b[39;49;00m\u001b[38;5;124;43m\"\u001b[39;49m\u001b[43m \u001b[49m\u001b[38;5;241;43m%\u001b[39;49m\u001b[43m \u001b[49m\u001b[43m(\u001b[49m\u001b[43mnpage\u001b[49m\u001b[43m,\u001b[49m\u001b[43m \u001b[49m\u001b[43mmin_nrate\u001b[49m\u001b[43m)\u001b[49m)\n\u001b[1;32m     36\u001b[0m df_all \u001b[38;5;241m=\u001b[39m pd\u001b[38;5;241m.\u001b[39mconcat([df_all, df], axis\u001b[38;5;241m=\u001b[39m\u001b[38;5;241m0\u001b[39m)\n\u001b[1;32m     37\u001b[0m npage \u001b[38;5;241m+\u001b[39m\u001b[38;5;241m=\u001b[39m \u001b[38;5;241m1\u001b[39m\n",
      "\u001b[0;31mValueError\u001b[0m: cannot convert float NaN to integer"
     ]
    }
   ],
   "source": [
    "# Initialize a DF to hold all our scraped game info\n",
    "df_all = pd.DataFrame(columns=[\"id\", \"name\", \"nrate\", \"pic_url\"])\n",
    "min_nrate = 1e5\n",
    "npage = 1\n",
    "\n",
    "# Scrap successful pages in the results until we get down to games with < 1000 ratings each\n",
    "while min_nrate > 1000:\n",
    "    # Get full HTML for a specific page in the full listing of boardgames sorted by \n",
    "    r = request(\"https://boardgamegeek.com/browse/boardgame/page/%i?sort=numvoters&sortdir=desc\" % (npage,))\n",
    "    soup = BeautifulSoup(r.text, \"html.parser\")    \n",
    "    \n",
    "    # Get rows for the table listing all the games on this page\n",
    "    table = soup.find_all(\"tr\", attrs={\"id\": \"row_\"})  # Get list of all the rows (tags) in the list of games on this page\n",
    "    df = pd.DataFrame(columns=[\"id\", \"name\", \"nrate\", \"pic_url\"], index=range(len(table)))  # DF to hold this pages results\n",
    "    \n",
    "    # Loop through each row and pull out the info for that game\n",
    "    for idx, row in enumerate(table):\n",
    "        # Row may or may not start with a \"boardgame rank\" link, if YES then strip it\n",
    "        links = row.find_all(\"a\")\n",
    "        if \"name\" in links[0].attrs.keys():\n",
    "            del links[0]\n",
    "        gamelink = links[1]  # Get the relative URL for the specific game\n",
    "        gameid = int(gamelink[\"href\"].split(\"/\")[2])  # Get the game ID by parsing the relative URL\n",
    "        gamename = gamelink.contents[0]  # Get the actual name of the game as the link contents\n",
    "        imlink = links[0]  # Get the URL for the game thumbnail\n",
    "        thumbnail = imlink.contents[0][\"src\"]\n",
    "\n",
    "        ratings_str = row.find_all(\"td\", attrs={\"class\": \"collection_bggrating\"})[2].contents[0]\n",
    "        nratings = int(\"\".join(ratings_str.split()))\n",
    "\n",
    "        df.iloc[idx, :] = [gameid, gamename, nratings, thumbnail]\n",
    "\n",
    "    # Concatenate the results of this page to the master dataframe\n",
    "    min_nrate = df[\"nrate\"].min()  # The smallest number of ratings of any game on the page\n",
    "    print(\"Page %i scraped, minimum number of ratings was %i\" % (npage, min_nrate))\n",
    "    df_all = pd.concat([df_all, df], axis=0)\n",
    "    npage += 1\n",
    "    sleep(2) # Keep the BGG server happy."
   ]
  },
  {
   "cell_type": "code",
   "execution_count": 11,
   "id": "3d8817c6-e6b7-456e-9f84-a6e333f7527d",
   "metadata": {},
   "outputs": [
    {
     "data": {
      "text/html": [
       "<div>\n",
       "<style scoped>\n",
       "    .dataframe tbody tr th:only-of-type {\n",
       "        vertical-align: middle;\n",
       "    }\n",
       "\n",
       "    .dataframe tbody tr th {\n",
       "        vertical-align: top;\n",
       "    }\n",
       "\n",
       "    .dataframe thead th {\n",
       "        text-align: right;\n",
       "    }\n",
       "</style>\n",
       "<table border=\"1\" class=\"dataframe\">\n",
       "  <thead>\n",
       "    <tr style=\"text-align: right;\">\n",
       "      <th></th>\n",
       "      <th>id</th>\n",
       "      <th>name</th>\n",
       "      <th>nrate</th>\n",
       "      <th>pic_url</th>\n",
       "    </tr>\n",
       "  </thead>\n",
       "  <tbody>\n",
       "    <tr>\n",
       "      <th>0</th>\n",
       "      <td>13</td>\n",
       "      <td>CATAN</td>\n",
       "      <td>128958</td>\n",
       "      <td>https://cf.geekdo-images.com/W3Bsga_uLP9kO91gZ...</td>\n",
       "    </tr>\n",
       "    <tr>\n",
       "      <th>1</th>\n",
       "      <td>822</td>\n",
       "      <td>Carcassonne</td>\n",
       "      <td>128106</td>\n",
       "      <td>https://cf.geekdo-images.com/okM0dq_bEXnbyQTOv...</td>\n",
       "    </tr>\n",
       "    <tr>\n",
       "      <th>2</th>\n",
       "      <td>30549</td>\n",
       "      <td>Pandemic</td>\n",
       "      <td>126448</td>\n",
       "      <td>https://cf.geekdo-images.com/S3ybV1LAp-8SnHIXL...</td>\n",
       "    </tr>\n",
       "    <tr>\n",
       "      <th>3</th>\n",
       "      <td>68448</td>\n",
       "      <td>7 Wonders</td>\n",
       "      <td>105376</td>\n",
       "      <td>https://cf.geekdo-images.com/35h9Za_JvMMMtx_92...</td>\n",
       "    </tr>\n",
       "    <tr>\n",
       "      <th>4</th>\n",
       "      <td>167791</td>\n",
       "      <td>Terraforming Mars</td>\n",
       "      <td>100322</td>\n",
       "      <td>https://cf.geekdo-images.com/wg9oOLcsKvDesSUdZ...</td>\n",
       "    </tr>\n",
       "  </tbody>\n",
       "</table>\n",
       "</div>"
      ],
      "text/plain": [
       "       id               name   nrate  \\\n",
       "0      13              CATAN  128958   \n",
       "1     822        Carcassonne  128106   \n",
       "2   30549           Pandemic  126448   \n",
       "3   68448          7 Wonders  105376   \n",
       "4  167791  Terraforming Mars  100322   \n",
       "\n",
       "                                             pic_url  \n",
       "0  https://cf.geekdo-images.com/W3Bsga_uLP9kO91gZ...  \n",
       "1  https://cf.geekdo-images.com/okM0dq_bEXnbyQTOv...  \n",
       "2  https://cf.geekdo-images.com/S3ybV1LAp-8SnHIXL...  \n",
       "3  https://cf.geekdo-images.com/35h9Za_JvMMMtx_92...  \n",
       "4  https://cf.geekdo-images.com/wg9oOLcsKvDesSUdZ...  "
      ]
     },
     "execution_count": 11,
     "metadata": {},
     "output_type": "execute_result"
    }
   ],
   "source": [
    "df = df_all.copy()\n",
    "# Reset the index since we concatenated a bunch of DFs with the same index into one DF\n",
    "df.reset_index(inplace=True, drop=True)\n",
    "# Write the DF to .csv for future use\n",
    "df.to_csv(\"bgg_gamelist.csv\", index=False, encoding=\"utf-8\")\n",
    "df.head()"
   ]
  },
  {
   "cell_type": "code",
   "execution_count": 12,
   "id": "4f52c0bf-0c2a-46d5-8403-4ad80dda9c6a",
   "metadata": {},
   "outputs": [
    {
     "name": "stdout",
     "output_type": "stream",
     "text": [
      "Number of games with > 1000 ratings is approximately 1000\n",
      "Total number of ratings from all these games is 15430299\n"
     ]
    }
   ],
   "source": [
    "print(\"Number of games with > 1000 ratings is approximately %i\" % (len(df),))\n",
    "print(\"Total number of ratings from all these games is %i\" % (df[\"nrate\"].sum(),))"
   ]
  },
  {
   "cell_type": "code",
   "execution_count": 14,
   "id": "ea25815b-abbc-4c01-b6bb-2ae589abf4c2",
   "metadata": {},
   "outputs": [
    {
     "data": {
      "image/png": "[encoded data removed]",
      "text/plain": [
       "<Figure size 640x480 with 1 Axes>"
      ]
     },
     "metadata": {},
     "output_type": "display_data"
    }
   ],
   "source": [
    "import numpy as np\n",
    "fig, ax = plt.subplots()\n",
    "# snp.labs(\"LOG(# Ratings)\", \"Count\", \"Distribution of LOG(# Ratings)\")\n",
    "__ = ax.hist(np.log10(df[\"nrate\"].astype(float)), bins=30)"
   ]
  },
  {
   "cell_type": "code",
   "execution_count": 15,
   "id": "f7e1b5f0-968e-4c36-99e8-60a3afb75498",
   "metadata": {},
   "outputs": [
    {
     "data": {
      "text/plain": [
       "[<comment rating=\"10\" username=\"Nargash\" value=\"This game is now in kickstarter and will be so amayzing !!!!  Come and plede with all community help us to improve all we can have and reach in SG.\"/>,\n",
       " <comment rating=\"10\" username=\"Yue99\" value=\"Very good project, awesome minis!\"/>,\n",
       " <comment rating=\"10\" username=\"Globulor\" value=\"This kickstarter rocks!!!!!\"/>,\n",
       " <comment rating=\"10\" username=\"Grizzlylizard\" value=\"\"/>,\n",
       " <comment rating=\"10\" username=\"JavierKensei\" value=\"\"/>,\n",
       " <comment rating=\"10\" username=\"naruko\" value=\"\"/>,\n",
       " <comment rating=\"10\" username=\"dfernand\" value=\"\"/>,\n",
       " <comment rating=\"10\" username=\"Grauenacht\" value=\"\"/>,\n",
       " <comment rating=\"10\" username=\"BelialSpain\" value=\"\"/>,\n",
       " <comment rating=\"9\" username=\"Tefen\" value=\"\"/>,\n",
       " <comment rating=\"9\" username=\"ofxofx\" value=\"Dipinto! (33) \"/>,\n",
       " <comment rating=\"9\" username=\"Astrosnik0506\" value=\"\"/>,\n",
       " <comment rating=\"9\" username=\"Max1968\" value=\"\"/>,\n",
       " <comment rating=\"8\" username=\"Boost3r\" value=\"\"/>,\n",
       " <comment rating=\"8\" username=\"Xoffer82\" value=\"\"/>,\n",
       " <comment rating=\"8\" username=\"Galotta\" value=\"\"/>,\n",
       " <comment rating=\"8\" username=\"xeth1313\" value=\"\"/>,\n",
       " <comment rating=\"8\" username=\"Goiardo\" value=\"\"/>,\n",
       " <comment rating=\"8\" username=\"Akzthurel\" value=\"\"/>,\n",
       " <comment rating=\"8\" username=\"AugenbraueLee\" value=\"\"/>,\n",
       " <comment rating=\"7\" username=\"MASB\" value=\"\"/>,\n",
       " <comment rating=\"7\" username=\"Fresisurf\" value=\"\"/>,\n",
       " <comment rating=\"7\" username=\"zhell\" value=\"\"/>,\n",
       " <comment rating=\"7\" username=\"Sabuk\" value=\"Minis are really good quality and the tokens, cards and board too.   But it is so easy to play. Need homemade rules to be great. I will work in this.\"/>,\n",
       " <comment rating=\"7\" username=\"bigoi75\" value=\"Play first scenario in 3 players and really have fun. I think it's better in 3-5 players then 1-2 because you can split the enemies and their lifes ... And bosses are fare more difficult in 1-2 players. Some more attention to rules would have enrich It but i think it's ok also as It Is now.\"/>,\n",
       " <comment rating=\"7\" username=\"Matschbanane\" value=\"\"/>,\n",
       " <comment rating=\"7\" username=\"coplosylvain\" value=\"\"/>,\n",
       " <comment rating=\"6\" username=\"Aegith\" value=\"\"/>,\n",
       " <comment rating=\"6\" username=\"naenny\" value=\"\"/>,\n",
       " <comment rating=\"6\" username=\"gravitypool\" value=\"\"/>,\n",
       " <comment rating=\"6\" username=\"LeRefuseur\" value=\"\"/>,\n",
       " <comment rating=\"6\" username=\"Torbrim\" value=\"\"/>,\n",
       " <comment rating=\"6\" username=\"Kenndogg\" value=\"\"/>,\n",
       " <comment rating=\"6\" username=\"LongGe\" value=\"\"/>,\n",
       " <comment rating=\"6\" username=\"Tuburulo\" value=\"\"/>,\n",
       " <comment rating=\"6\" username=\"Maximusmag\" value=\"\"/>,\n",
       " <comment rating=\"6\" username=\"Sepiatore\" value=\"\"/>,\n",
       " <comment rating=\"6\" username=\"Mario Pawlowski\" value=\"\"/>,\n",
       " <comment rating=\"6\" username=\"Mitose\" value=\"\"/>,\n",
       " <comment rating=\"6\" username=\"Vorn38\" value=\"\"/>,\n",
       " <comment rating=\"6\" username=\"riojano2002\" value=\"\"/>,\n",
       " <comment rating=\"6\" username=\"StephanoKing\" value=\"\"/>,\n",
       " <comment rating=\"6\" username=\"Pedraa96\" value=\"\"/>,\n",
       " <comment rating=\"5.9\" username=\"jcancam\" value=\"\"/>,\n",
       " <comment rating=\"5\" username=\"MarauderJok\" value=\"Tiene una pintaza! Que pena haberme perdido el kickstarter, a ver si lo cazo y puedo hacer un late pledge!\"/>,\n",
       " <comment rating=\"5\" username=\"Laurhidil\" value=\"\"/>,\n",
       " <comment rating=\"5\" username=\"dadiomouse\" value=\"\"/>,\n",
       " <comment rating=\"5\" username=\"darkscion11111\" value=\"\"/>,\n",
       " <comment rating=\"5\" username=\"Togego\" value=\"While the minis are great, the rules haven't convinced me enough to actually play it. I will keep buying expansions because of the minis, but it is a shame I probably will never play them.\"/>,\n",
       " <comment rating=\"4\" username=\"IsmaelMS\" value=\"\"/>,\n",
       " <comment rating=\"4\" username=\"Victor Mancha\" value=\"&quot;Not great, Bob!&quot;   First I have to say the minis are great, nice and sturdy, almost no flash, great quality, not a lot of detail, but not really needed. Dashboards are thick and sturdy. Rest of components are average.   That said, after two games I must say I find the game insultingly easy. No, seriously. It's kind of a joke. Every turn heroes act first, and then it's the Yokais' turn. Problem is the IA for the Yokais is extremely limited. Basically their modus operandi is:  Do I have a hero in range? Yes? Then I attack. No? Then I move towards them. And that's it.   Also most of them only have 1HP and limited defense.   So what happens? You get ready. The monsters show, mostly just move and next turn one of the heroes use one of their (kinda overpowered) abilities and clean the whole board. The other heroes just look at the ceiling or if they are very lucky they get to kill the one yokai that somehow miraculosly managed to survive the first hero attack. Rinse and repeat.  Admitedly we've only played two scenarios (one from the core box and one from The Oni Invasion expansion). Next play/yokai might be better, but it doesn't seem likely. Rulebook is also kind of a mess, so we might have been playing some things wrong.   At this point I truly believe the game needs some homerules to make it more challenging. Sadly, I can't seem anybody older than 8 having fun with the game as it is. I don't think the game was playtested enough (if at all).\"/>,\n",
       " <comment rating=\"4\" username=\"Rastrapies\" value=\"\"/>,\n",
       " <comment rating=\"4\" username=\"Mister Booze\" value=\"\"/>,\n",
       " <comment rating=\"3\" username=\"Herugor\" value=\"Las reglas son una broma. Resulta demasiado fácil y simple. Las miniaturas bien, los componentes normales.\"/>,\n",
       " <comment rating=\"3\" username=\"Sparco_Warcor\" value=\"\"/>,\n",
       " <comment rating=\"2\" username=\"sgbeal\" value=\"Yokai Quest is unfortunately half-baked. The designer abandoned the project halfway through, the minis maker took it over and completed it, but it doesn't take more than a few sessions to realize that it's entirely unengaging - basically &quot;keep rolling dice until the enemy is defeated.&quot; The minis are beautiful, though.\"/>,\n",
       " <comment rating=\"1\" username=\"cadwal\" value=\"Kickstarter exclusive miniatures make it impossible to complete the collection after release.\"/>,\n",
       " <comment rating=\"1\" username=\"Ariadkas\" value=\"\"/>,\n",
       " <comment rating=\"1\" username=\"Helljin\" value=\"Between Gamezone, Scale 75 and Zenit Miniatures I’m never Crowdfunding anything from a company based in Spain again.   I ended up keeping the mini's and throwing the rest of the game in the trash.\"/>,\n",
       " <comment rating=\"1\" username=\"paladinelliott\" value=\"\"/>,\n",
       " <comment rating=\"1\" username=\"Kenig\" value=\"\"/>,\n",
       " <comment rating=\"1\" username=\"Grifford\" value=\"\"/>]"
      ]
     },
     "execution_count": 15,
     "metadata": {},
     "output_type": "execute_result"
    }
   ],
   "source": [
    "# Getting the ratings of specific board game (each is in a \"comment\" div)\n",
    "r = request(\"http://www.boardgamegeek.com/xmlapi2/thing?id=213578&ratingcomments=1\")\n",
    "soup = BeautifulSoup(r.text, \"xml\")\n",
    "comments = soup(\"comment\")\n",
    "comments"
   ]
  },
  {
   "cell_type": "code",
   "execution_count": 16,
   "id": "27457d1c-d5fd-4025-a4d5-fcfbd2a2d9fd",
   "metadata": {},
   "outputs": [
    {
     "data": {
      "text/plain": [
       "'Nargash'"
      ]
     },
     "execution_count": 16,
     "metadata": {},
     "output_type": "execute_result"
    }
   ],
   "source": [
    "comments[0][\"username\"]\n"
   ]
  },
  {
   "cell_type": "code",
   "execution_count": 17,
   "id": "29bd5291-6a0b-4a2e-a901-e2285ccc7848",
   "metadata": {},
   "outputs": [
    {
     "name": "stdout",
     "output_type": "stream",
     "text": [
      "Dropping the 20 most-rated games would give a total number of ratings of 3471265\n"
     ]
    }
   ],
   "source": [
    "print(\"Dropping the 20 most-rated games would give a total number of ratings of %i\" \n",
    "      % (df.loc[500:, \"nrate\"].sum(),))"
   ]
  },
  {
   "cell_type": "code",
   "execution_count": 31,
   "id": "cf234711-ba40-46c6-9153-96f22fb429c8",
   "metadata": {},
   "outputs": [
    {
     "name": "stdout",
     "output_type": "stream",
     "text": [
      "Thresholding at 6000 ratings gives 158 games and 871020 total ratings\n"
     ]
    }
   ],
   "source": [
    "thresh = 6_000\n",
    "\n",
    "print(f\"Thresholding at {thresh} ratings gives %i games and %i total ratings\"\n",
    "     % (df.loc[df[\"nrate\"] < thresh, \"nrate\"].count(), \n",
    "        df.loc[df[\"nrate\"] < thresh, \"nrate\"].sum()))"
   ]
  },
  {
   "cell_type": "code",
   "execution_count": 32,
   "id": "f31be6c9-78d6-4b3d-99f8-a62d33abcc09",
   "metadata": {},
   "outputs": [],
   "source": [
    "# Restrict the data set to fewer games that have fewer ratings (our toy data set!)\n",
    "df_toy = df.loc[df[\"nrate\"] < thresh, ].copy()"
   ]
  },
  {
   "cell_type": "code",
   "execution_count": 33,
   "id": "5742fc32-eb06-4dca-88a9-9fc67dd0f88f",
   "metadata": {},
   "outputs": [
    {
     "data": {
      "text/html": [
       "<div>\n",
       "<style scoped>\n",
       "    .dataframe tbody tr th:only-of-type {\n",
       "        vertical-align: middle;\n",
       "    }\n",
       "\n",
       "    .dataframe tbody tr th {\n",
       "        vertical-align: top;\n",
       "    }\n",
       "\n",
       "    .dataframe thead th {\n",
       "        text-align: right;\n",
       "    }\n",
       "</style>\n",
       "<table border=\"1\" class=\"dataframe\">\n",
       "  <thead>\n",
       "    <tr style=\"text-align: right;\">\n",
       "      <th></th>\n",
       "      <th>id</th>\n",
       "      <th>name</th>\n",
       "      <th>nrate</th>\n",
       "      <th>pic_url</th>\n",
       "      <th>nfullpages</th>\n",
       "    </tr>\n",
       "  </thead>\n",
       "  <tbody>\n",
       "    <tr>\n",
       "      <th>842</th>\n",
       "      <td>212402</td>\n",
       "      <td>The Grimm Forest</td>\n",
       "      <td>5999</td>\n",
       "      <td>https://cf.geekdo-images.com/fKsNUAfk4uSR6TWsx...</td>\n",
       "      <td>59.0</td>\n",
       "    </tr>\n",
       "    <tr>\n",
       "      <th>843</th>\n",
       "      <td>216734</td>\n",
       "      <td>Dice Throne: Season One</td>\n",
       "      <td>5990</td>\n",
       "      <td>https://cf.geekdo-images.com/crZpafHHxItU5EWPC...</td>\n",
       "      <td>59.0</td>\n",
       "    </tr>\n",
       "    <tr>\n",
       "      <th>844</th>\n",
       "      <td>262215</td>\n",
       "      <td>Blackout: Hong Kong</td>\n",
       "      <td>5972</td>\n",
       "      <td>https://cf.geekdo-images.com/jOLEKfuTY4gLszR1h...</td>\n",
       "      <td>59.0</td>\n",
       "    </tr>\n",
       "    <tr>\n",
       "      <th>845</th>\n",
       "      <td>134253</td>\n",
       "      <td>Hostage Negotiator</td>\n",
       "      <td>5964</td>\n",
       "      <td>https://cf.geekdo-images.com/lsQCV11cBoOq9tms2...</td>\n",
       "      <td>59.0</td>\n",
       "    </tr>\n",
       "    <tr>\n",
       "      <th>846</th>\n",
       "      <td>43539</td>\n",
       "      <td>Battlestar Galactica: The Board Game – Pegasus...</td>\n",
       "      <td>5954</td>\n",
       "      <td>https://cf.geekdo-images.com/gIFO3gX6AxkdLZMK2...</td>\n",
       "      <td>59.0</td>\n",
       "    </tr>\n",
       "  </tbody>\n",
       "</table>\n",
       "</div>"
      ],
      "text/plain": [
       "         id                                               name nrate  \\\n",
       "842  212402                                   The Grimm Forest  5999   \n",
       "843  216734                            Dice Throne: Season One  5990   \n",
       "844  262215                                Blackout: Hong Kong  5972   \n",
       "845  134253                                 Hostage Negotiator  5964   \n",
       "846   43539  Battlestar Galactica: The Board Game – Pegasus...  5954   \n",
       "\n",
       "                                               pic_url  nfullpages  \n",
       "842  https://cf.geekdo-images.com/fKsNUAfk4uSR6TWsx...        59.0  \n",
       "843  https://cf.geekdo-images.com/crZpafHHxItU5EWPC...        59.0  \n",
       "844  https://cf.geekdo-images.com/jOLEKfuTY4gLszR1h...        59.0  \n",
       "845  https://cf.geekdo-images.com/lsQCV11cBoOq9tms2...        59.0  \n",
       "846  https://cf.geekdo-images.com/gIFO3gX6AxkdLZMK2...        59.0  "
      ]
     },
     "execution_count": 33,
     "metadata": {},
     "output_type": "execute_result"
    }
   ],
   "source": [
    "# Prepare a \"# of FULL pages of ratings\" column to track # API calls needed\n",
    "df_toy[\"nfullpages\"] = (df_toy[\"nrate\"]-50).apply(round, ndigits=-2)/100  # Round DOWN to nearest 100\n",
    "df_toy.head()"
   ]
  },
  {
   "cell_type": "code",
   "execution_count": 34,
   "id": "7a2441da-a315-4393-a7b5-bebce36a48ec",
   "metadata": {},
   "outputs": [],
   "source": [
    "# Create the database and make a cursor to talk to it.\n",
    "import sqlite3\n",
    "connex = sqlite3.connect(\"bgg_ratings_toy.db\")  # Opens file if exists, else creates file\n",
    "cur = connex.cursor()  # This object lets us actually send messages to our DB and receive results"
   ]
  },
  {
   "cell_type": "code",
   "execution_count": 35,
   "id": "c0ecd695-de4c-41af-ae5b-22a8d143130f",
   "metadata": {},
   "outputs": [
    {
     "name": "stdout",
     "output_type": "stream",
     "text": [
      "Server Error! Response Code 400. Retrying...\n",
      "Server Error! Response Code 400. Retrying...\n",
      "Server Error! Response Code 400. Retrying...\n",
      "Server Error! Response Code 400. Retrying...\n",
      "Server Error! Response Code 400. Retrying...\n",
      "Server Error! Response Code 400. Retrying...\n",
      "Server Error! Response Code 400. Retrying...\n",
      "Server Error! Response Code 400. Retrying...\n",
      "Server Error! Response Code 400. Retrying...\n",
      "Server Error! Response Code 400. Retrying...\n",
      "Server Error! Response Code 400. Retrying...\n",
      "Server Error! Response Code 400. Retrying...\n",
      "Server Error! Response Code 400. Retrying...\n",
      "Server Error! Response Code 400. Retrying...\n",
      "Server Error! Response Code 400. Retrying...\n",
      "Server Error! Response Code 400. Retrying...\n",
      "Server Error! Response Code 400. Retrying...\n",
      "Server Error! Response Code 400. Retrying...\n",
      "Server Error! Response Code 400. Retrying...\n",
      "Server Error! Response Code 400. Retrying...\n",
      "Server Error! Response Code 400. Retrying...\n",
      "Server Error! Response Code 400. Retrying...\n",
      "Server Error! Response Code 400. Retrying...\n",
      "Server Error! Response Code 400. Retrying...\n",
      "Server Error! Response Code 400. Retrying...\n",
      "Server Error! Response Code 400. Retrying...\n",
      "Server Error! Response Code 400. Retrying...\n",
      "Server Error! Response Code 400. Retrying...\n",
      "Server Error! Response Code 400. Retrying...\n",
      "Server Error! Response Code 400. Retrying...\n",
      "Server Error! Response Code 400. Retrying...\n",
      "Server Error! Response Code 400. Retrying...\n",
      "Server Error! Response Code 400. Retrying...\n",
      "Server Error! Response Code 400. Retrying...\n",
      "Server Error! Response Code 400. Retrying...\n",
      "Server Error! Response Code 400. Retrying...\n",
      "Server Error! Response Code 400. Retrying...\n",
      "Server Error! Response Code 400. Retrying...\n",
      "Server Error! Response Code 400. Retrying...\n",
      "Server Error! Response Code 400. Retrying...\n",
      "Server Error! Response Code 400. Retrying...\n",
      "Server Error! Response Code 400. Retrying...\n",
      "Server Error! Response Code 400. Retrying...\n",
      "Server Error! Response Code 400. Retrying...\n",
      "Server Error! Response Code 400. Retrying...\n",
      "Server Error! Response Code 400. Retrying...\n",
      "Server Error! Response Code 400. Retrying...\n",
      "Server Error! Response Code 400. Retrying...\n",
      "Server Error! Response Code 400. Retrying...\n",
      "Server Error! Response Code 400. Retrying...\n",
      "Server Error! Response Code 400. Retrying...\n",
      "Server Error! Response Code 400. Retrying...\n",
      "Server Error! Response Code 400. Retrying...\n",
      "Server Error! Response Code 400. Retrying...\n"
     ]
    },
    {
     "ename": "KeyboardInterrupt",
     "evalue": "",
     "output_type": "error",
     "traceback": [
      "\u001b[0;31m---------------------------------------------------------------------------\u001b[0m",
      "\u001b[0;31mKeyboardInterrupt\u001b[0m                         Traceback (most recent call last)",
      "Cell \u001b[0;32mIn [35], line 30\u001b[0m\n\u001b[1;32m     28\u001b[0m         gameids \u001b[38;5;241m=\u001b[39m \u001b[38;5;124m\"\u001b[39m\u001b[38;5;124m,\u001b[39m\u001b[38;5;124m\"\u001b[39m\u001b[38;5;241m.\u001b[39mjoin(id_strs)\n\u001b[1;32m     29\u001b[0m         sleep(\u001b[38;5;241m1.5\u001b[39m)  \u001b[38;5;66;03m# Keep the server happy\u001b[39;00m\n\u001b[0;32m---> 30\u001b[0m         r \u001b[38;5;241m=\u001b[39m \u001b[43mrequest\u001b[49m\u001b[43m(\u001b[49m\u001b[38;5;124;43m\"\u001b[39;49m\u001b[38;5;124;43mhttp://www.boardgamegeek.com/xmlapi2/thing?id=\u001b[39;49m\u001b[38;5;132;43;01m%s\u001b[39;49;00m\u001b[38;5;124;43m&ratingcomments=1&page=\u001b[39;49m\u001b[38;5;132;43;01m%i\u001b[39;49;00m\u001b[38;5;124;43m\"\u001b[39;49m\u001b[43m \u001b[49m\u001b[38;5;241;43m%\u001b[39;49m\u001b[43m \u001b[49m\u001b[43m(\u001b[49m\u001b[43mgameids\u001b[49m\u001b[43m,\u001b[49m\u001b[43m \u001b[49m\u001b[43mpagenum\u001b[49m\u001b[43m)\u001b[49m\u001b[43m)\u001b[49m\n\u001b[1;32m     31\u001b[0m \u001b[38;5;66;03m#         while r.status_code != 200:\u001b[39;00m\n\u001b[1;32m     32\u001b[0m \u001b[38;5;66;03m#             sleep(2)  # Keep the server happy\u001b[39;00m\n\u001b[1;32m     33\u001b[0m \u001b[38;5;66;03m#             print(\"Server Error! Response Code %i. Retrying...\" % (r.status_code))\u001b[39;00m\n\u001b[1;32m     34\u001b[0m \u001b[38;5;66;03m#             r = requests.get(\"http://www.boardgamegeek.com/xmlapi2/thing?id=%s&ratingcomments=1&page=%i\" % (gameids, pagenum))        \u001b[39;00m\n\u001b[1;32m     35\u001b[0m         soup \u001b[38;5;241m=\u001b[39m BeautifulSoup(r\u001b[38;5;241m.\u001b[39mtext, \u001b[38;5;124m\"\u001b[39m\u001b[38;5;124mxml\u001b[39m\u001b[38;5;124m\"\u001b[39m)\n",
      "Cell \u001b[0;32mIn [7], line 5\u001b[0m, in \u001b[0;36mrequest\u001b[0;34m(msg, slp)\u001b[0m\n\u001b[1;32m      3\u001b[0m status_code \u001b[38;5;241m=\u001b[39m \u001b[38;5;241m500\u001b[39m  \u001b[38;5;66;03m# Want to get a status-code of 200\u001b[39;00m\n\u001b[1;32m      4\u001b[0m \u001b[38;5;28;01mwhile\u001b[39;00m status_code \u001b[38;5;241m!=\u001b[39m \u001b[38;5;241m200\u001b[39m:\n\u001b[0;32m----> 5\u001b[0m     \u001b[43msleep\u001b[49m\u001b[43m(\u001b[49m\u001b[43mslp\u001b[49m\u001b[43m)\u001b[49m  \u001b[38;5;66;03m# Don't ping the server too often\u001b[39;00m\n\u001b[1;32m      6\u001b[0m     \u001b[38;5;28;01mtry\u001b[39;00m:\n\u001b[1;32m      7\u001b[0m         r \u001b[38;5;241m=\u001b[39m requests\u001b[38;5;241m.\u001b[39mget(msg)\n",
      "\u001b[0;31mKeyboardInterrupt\u001b[0m: "
     ]
    }
   ],
   "source": [
    "#############################################################\n",
    "# Gathering all ratings from all games in toy data set\n",
    "#############################################################\n",
    "# Get ratings page-by-page for all games, but do it in chunks of 250 games\n",
    "for nm, grp in df_toy.groupby(np.arange(len(df_toy))//150):\n",
    "    # Initialize a DF to hold all the responses for this chunk of games\n",
    "    df_ratings = pd.DataFrame(columns=[\"gameid\", \"username\", \"rating\"], index=range(grp[\"nrate\"].sum()+100000))\n",
    "\n",
    "    # Initialize indices for writing to the ratings dataframe\n",
    "    dfidx_start = 0\n",
    "    dfidx = 0\n",
    "    \n",
    "    # For this group of games, make calls until all FULL pages of every game have been pulled\n",
    "    pagenum = 1\n",
    "    while len(grp[grp[\"nfullpages\"] > 0]) > 0: \n",
    "        # Get a restricted DF with only still-active games (have ratings pages left)\n",
    "        active_games = grp[grp[\"nfullpages\"] > 0]\n",
    "\n",
    "        # Set the next chunk of the DF \"gameid\" column using the list of game IDs\n",
    "        id_list = []\n",
    "        for game in active_games[\"id\"]:\n",
    "            id_list += [game]*100\n",
    "        dfidx_end = dfidx_start + len(active_games)*100\n",
    "        df_ratings.iloc[dfidx_start:dfidx_end, df_ratings.columns.get_loc(\"gameid\")] = id_list\n",
    "\n",
    "        # Make the request with the list of all game IDs that have ratings left\n",
    "        id_strs = [str(gid) for gid in active_games[\"id\"]]\n",
    "        gameids = \",\".join(id_strs)\n",
    "        sleep(1.5)  # Keep the server happy\n",
    "        r = request(\"http://www.boardgamegeek.com/xmlapi2/thing?id=%s&ratingcomments=1&page=%i\" % (gameids, pagenum))\n",
    "#         while r.status_code != 200:\n",
    "#             sleep(2)  # Keep the server happy\n",
    "#             print(\"Server Error! Response Code %i. Retrying...\" % (r.status_code))\n",
    "#             r = requests.get(\"http://www.boardgamegeek.com/xmlapi2/thing?id=%s&ratingcomments=1&page=%i\" % (gameids, pagenum))        \n",
    "        soup = BeautifulSoup(r.text, \"xml\")\n",
    "        comments = soup(\"comment\")\n",
    "#         print(\"Response status was %i - number of ratings retrieved was %i\" % (r.status_code, len(comments)))\n",
    "\n",
    "        # Parse the response and assign it into the dataframe\n",
    "        l1 = [0]*len(active_games)*100\n",
    "        l2 = [0]*len(active_games)*100\n",
    "        j = 0\n",
    "        for comm in comments:\n",
    "            l1[j] = comm[\"username\"]\n",
    "            l2[j] = float(comm[\"rating\"])\n",
    "            j += 1\n",
    "        df_ratings.iloc[dfidx_start:dfidx_end, df_ratings.columns.get_loc(\"username\")] = l1\n",
    "        df_ratings.iloc[dfidx_start:dfidx_end, df_ratings.columns.get_loc(\"rating\")] = l2\n",
    "\n",
    "        \n",
    "        grp[\"nfullpages\"] -= 1  # Decrement the number of FULL pages of each game id\n",
    "        dfidx_start = dfidx_end     \n",
    "        pagenum += 1  \n",
    "        print(\"pagenum updated to %i\" %(pagenum,))\n",
    "    \n",
    "    # Strip off the empty rows\n",
    "    df_ratings = df_ratings.dropna(how=\"all\")\n",
    "    # Write this batch of all FULL pages of ratings for this chunk of games to the DB\n",
    "    df_ratings.to_sql(name=\"data\", con=connex, if_exists=\"append\", index=False)    \n",
    "    print(\"Processed ratings for batch #%i of games.\" % (nm))"
   ]
  },
  {
   "cell_type": "code",
   "execution_count": null,
   "id": "168bf048-eed5-4d94-a5d3-c55b0fcda11d",
   "metadata": {},
   "outputs": [],
   "source": []
  }
 ],
 "metadata": {
  "kernelspec": {
   "display_name": "Python 3 (ipykernel)",
   "language": "python",
   "name": "python3"
  },
  "language_info": {
   "codemirror_mode": {
    "name": "ipython",
    "version": 3
   },
   "file_extension": ".py",
   "mimetype": "text/x-python",
   "name": "python",
   "nbconvert_exporter": "python",
   "pygments_lexer": "ipython3",
   "version": "3.8.10"
  }
 },
 "nbformat": 4,
 "nbformat_minor": 5
}
