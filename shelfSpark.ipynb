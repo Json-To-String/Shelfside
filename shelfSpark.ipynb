{
 "cells": [
  {
   "cell_type": "code",
   "execution_count": 1,
   "id": "fb21307a-7f9c-4e1c-b247-0548dd1352e7",
   "metadata": {},
   "outputs": [],
   "source": [
    "from pyspark.ml.evaluation import RegressionEvaluator\n",
    "from pyspark.ml.recommendation import ALS\n",
    "from pyspark.sql import Row\n",
    "# import pandas as pd\n",
    "from pyspark.sql import SparkSession"
   ]
  },
  {
   "cell_type": "code",
   "execution_count": 2,
   "id": "6e3153ce-14a8-4f7d-bc88-9c159247a9fb",
   "metadata": {},
   "outputs": [
    {
     "name": "stdout",
     "output_type": "stream",
     "text": [
      " \u001b[0m\u001b[01;32mREADME.md\u001b[0m*                                     \u001b[01;32mrequirements.txt\u001b[0m*\n",
      "\u001b[01;32m'Shelfside Games Reviewed - Review Data.csv'\u001b[0m*   \u001b[01;32msample_movielens_ratings.txt\u001b[0m*\n",
      " \u001b[01;32mbgg_gamelist.csv\u001b[0m*                              \u001b[01;32mscraping.ipynb\u001b[0m*\n",
      " \u001b[01;32mbgg_ratings_toy.db\u001b[0m*                            \u001b[01;32mshelfSpark.ipynb\u001b[0m*\n",
      " \u001b[01;32mexample_spark.py\u001b[0m*                              \u001b[01;32mspark_movies_example.ipynb\u001b[0m*\n",
      " \u001b[01;32minstall\u001b[0m*                                       \u001b[34;42msparkenv\u001b[0m/\n",
      " \u001b[01;32mmining.pl\u001b[0m*                                     \u001b[01;32mtest0.py\u001b[0m*\n",
      " \u001b[01;32mrecommender.ipynb\u001b[0m*\n"
     ]
    }
   ],
   "source": [
    "ls"
   ]
  },
  {
   "cell_type": "code",
   "execution_count": 3,
   "id": "89852e1f-0506-47c5-9fee-7f6dd6b010b5",
   "metadata": {},
   "outputs": [
    {
     "name": "stderr",
     "output_type": "stream",
     "text": [
      "24/08/30 22:19:42 WARN Utils: Your hostname, JPEnvy resolves to a loopback address: 127.0.1.1; using 10.255.255.254 instead (on interface lo)\n",
      "24/08/30 22:19:42 WARN Utils: Set SPARK_LOCAL_IP if you need to bind to another address\n",
      "Setting default log level to \"WARN\".\n",
      "To adjust logging level use sc.setLogLevel(newLevel). For SparkR, use setLogLevel(newLevel).\n",
      "24/08/30 22:19:42 WARN NativeCodeLoader: Unable to load native-hadoop library for your platform... using builtin-java classes where applicable\n",
      "24/08/30 22:19:43 WARN Utils: Service 'SparkUI' could not bind on port 4040. Attempting port 4041.\n"
     ]
    }
   ],
   "source": [
    "from pyspark import SparkContext, SparkConf\n",
    "\n",
    "\n",
    "master = 'local'\n",
    "conf = SparkConf().setAppName(\"shelfSpark\").setMaster(master)\n",
    "sc = SparkContext(conf=conf)"
   ]
  },
  {
   "cell_type": "code",
   "execution_count": 3,
   "id": "06e53be7-0755-45db-aea9-7f8444a351b1",
   "metadata": {},
   "outputs": [
    {
     "name": "stderr",
     "output_type": "stream",
     "text": [
      "24/08/30 22:14:22 WARN Utils: Your hostname, JPEnvy resolves to a loopback address: 127.0.1.1; using 10.255.255.254 instead (on interface lo)\n",
      "24/08/30 22:14:22 WARN Utils: Set SPARK_LOCAL_IP if you need to bind to another address\n",
      "Setting default log level to \"WARN\".\n",
      "To adjust logging level use sc.setLogLevel(newLevel). For SparkR, use setLogLevel(newLevel).\n",
      "24/08/30 22:14:23 WARN NativeCodeLoader: Unable to load native-hadoop library for your platform... using builtin-java classes where applicable\n",
      "24/08/30 22:14:23 WARN Utils: Service 'SparkUI' could not bind on port 4040. Attempting port 4041.\n"
     ]
    }
   ],
   "source": [
    "# spark = SparkSession.builder \\\n",
    "#     .appName(\"shelfSpark\") \\\n",
    "#     .getOrCreate()"
   ]
  },
  {
   "cell_type": "code",
   "execution_count": 7,
   "id": "1dd07e77-6bc7-4448-aecc-e3a083648813",
   "metadata": {},
   "outputs": [
    {
     "data": {
      "text/html": [
       "\n",
       "            <div>\n",
       "                <p><b>SparkSession - in-memory</b></p>\n",
       "                \n",
       "        <div>\n",
       "            <p><b>SparkContext</b></p>\n",
       "\n",
       "            <p><a href=\"http://10.255.255.254:4041\">Spark UI</a></p>\n",
       "\n",
       "            <dl>\n",
       "              <dt>Version</dt>\n",
       "                <dd><code>v3.5.2</code></dd>\n",
       "              <dt>Master</dt>\n",
       "                <dd><code>local[*]</code></dd>\n",
       "              <dt>AppName</dt>\n",
       "                <dd><code>shelfSpark</code></dd>\n",
       "            </dl>\n",
       "        </div>\n",
       "        \n",
       "            </div>\n",
       "        "
      ],
      "text/plain": [
       "<pyspark.sql.session.SparkSession at 0x7f6b2d5c6a60>"
      ]
     },
     "execution_count": 7,
     "metadata": {},
     "output_type": "execute_result"
    }
   ],
   "source": [
    "spark"
   ]
  },
  {
   "cell_type": "code",
   "execution_count": 4,
   "id": "5ab898e5-439d-452f-bd06-7bf7dd431842",
   "metadata": {},
   "outputs": [],
   "source": [
    "csvPath = 'Shelfside Games Reviewed - Review Data.csv'\n",
    "# reviewsDf = pd.read_csv(csvPath)\n",
    "# reviewsDf"
   ]
  },
  {
   "cell_type": "code",
   "execution_count": 5,
   "id": "1e53081c-7d40-4610-873a-a559578912f9",
   "metadata": {},
   "outputs": [
    {
     "name": "stdout",
     "output_type": "stream",
     "text": [
      "+--------------------+----------+-----+---------+---------+------------+------------+--------------------+----------------+------------------+--------------------+\n",
      "|                Game|Published |score|dan score|ash score|date publish|video length|            Vid Link|How to Play Vid?|How to Play Length|               Notes|\n",
      "+--------------------+----------+-----+---------+---------+------------+------------+--------------------+----------------+------------------+--------------------+\n",
      "|            Dominion|       yes|    8|        4|        7| Jul 12 2019|       16:46|https://www.youtu...|               N|              NULL|                NULL|\n",
      "|     The Resistance |       yes|    9|        5|        6|July 13 2019|        8:16|https://youtu.be/...|               N|              NULL|                NULL|\n",
      "|          Incan Gold|       yes|    7|        8|        8|July 14 2019|        7:40|https://youtu.be/...|               N|              NULL|                NULL|\n",
      "|            Splendor|       Yes|    9|        7|        6|July 15 2019|       17:13|https://youtu.be/...|               N|              NULL|                NULL|\n",
      "|               Dixit|       Yes|    6|        8|        4|July 25 2019|       16:01|https://youtu.be/...|               N|              NULL|                NULL|\n",
      "|                Coup|       yes|   10|        5|        6|July 24 2019|       13:28|https://youtu.be/...|               N|              NULL|                NULL|\n",
      "|           Snake Oil|       Yes|    7|        9|      N/A|July 28 2019|       14:39|                NULL|               N|              NULL|                NULL|\n",
      "|           SanGuoSha|       Yes|    7|        5|        9|July 29 2019|       15:22|https://www.youtu...|               Y|             17:06|                NULL|\n",
      "|            Suburbia|       Yes|    9|        9|        8| Aug 13 2019|       12:27|https://youtu.be/...|               Y|             16:37|                NULL|\n",
      "|         Cash N Guns|       Yes|    8|        8|        5| Aug 08 2019|       13:22|https://youtu.be/...|               Y|             10:36|                NULL|\n",
      "|            Monikers|       Yes|    5|        3|        4| Aug 22 2019|       10:29|https://youtu.be/...|               N|              NULL|       pnp available|\n",
      "|              Taboo |       Yes|    8|        7|        7| Aug 29 2019|       12:07|https://youtu.be/...|               N|              NULL|                ASMR|\n",
      "|    Once Upon a Time|       Yes|    8|        9|        8| Aug 31 2019|       10:34|https://www.youtu...|               N|              NULL|improve lighting ...|\n",
      "|  Archer Love Letter|       Yes|   10|        7|        8| Sept 8 2019|       15:24|                NULL|               N|              NULL|                NULL|\n",
      "|           Codenames|       Yes|    7|        4|        3|Sept 10 2019|       18:12|https://youtu.be/...|               N|              NULL|Pranav helps, hav...|\n",
      "|            Pandemic|       Yes|    5|        4|        4|Sept 12 2019|       12:53|https://youtu.be/...|               N|              NULL|Play tested game ...|\n",
      "|Sheriff of Nottin...|       Yes|    7|        6|        6|Sept 17 2019|       13:49|https://youtu.be/...|               N|              NULL|Lots of talking t...|\n",
      "|           Last Word|       Yes|    8|        6|        8|Sept 25 2019|       10:22|                NULL|               N|              NULL|Don't put mic und...|\n",
      "|    Bears vs. Babies|       Yes|    6|        7|        5|  Oct 4 2019|       15:48|https://youtu.be/...|               N|              NULL|Added in recommen...|\n",
      "|       King of Tokyo|       Yes|    8|        8|        7|  Oct 7 2019|       12:02|https://youtu.be/...|               N|              NULL|Really happy with...|\n",
      "+--------------------+----------+-----+---------+---------+------------+------------+--------------------+----------------+------------------+--------------------+\n",
      "only showing top 20 rows\n",
      "\n"
     ]
    }
   ],
   "source": [
    "df = spark.read.csv(csvPath, header = True)\n",
    "df.show()"
   ]
  },
  {
   "cell_type": "code",
   "execution_count": 6,
   "id": "f3829e47-306e-45e7-aba2-ce1c8c1ac3d3",
   "metadata": {},
   "outputs": [
    {
     "data": {
      "text/html": [
       "\n",
       "            <div>\n",
       "                <p><b>SparkSession - in-memory</b></p>\n",
       "                \n",
       "        <div>\n",
       "            <p><b>SparkContext</b></p>\n",
       "\n",
       "            <p><a href=\"http://10.255.255.254:4041\">Spark UI</a></p>\n",
       "\n",
       "            <dl>\n",
       "              <dt>Version</dt>\n",
       "                <dd><code>v3.5.2</code></dd>\n",
       "              <dt>Master</dt>\n",
       "                <dd><code>local[*]</code></dd>\n",
       "              <dt>AppName</dt>\n",
       "                <dd><code>shelfSpark</code></dd>\n",
       "            </dl>\n",
       "        </div>\n",
       "        \n",
       "            </div>\n",
       "        "
      ],
      "text/plain": [
       "<pyspark.sql.session.SparkSession at 0x7f6b2d5c6a60>"
      ]
     },
     "execution_count": 6,
     "metadata": {},
     "output_type": "execute_result"
    }
   ],
   "source": []
  },
  {
   "cell_type": "code",
   "execution_count": null,
   "id": "937d2ae6-8d7d-4025-80f1-d016de91d48e",
   "metadata": {},
   "outputs": [],
   "source": []
  }
 ],
 "metadata": {
  "kernelspec": {
   "display_name": "Python 3 (ipykernel)",
   "language": "python",
   "name": "python3"
  },
  "language_info": {
   "codemirror_mode": {
    "name": "ipython",
    "version": 3
   },
   "file_extension": ".py",
   "mimetype": "text/x-python",
   "name": "python",
   "nbconvert_exporter": "python",
   "pygments_lexer": "ipython3",
   "version": "3.8.10"
  }
 },
 "nbformat": 4,
 "nbformat_minor": 5
}
