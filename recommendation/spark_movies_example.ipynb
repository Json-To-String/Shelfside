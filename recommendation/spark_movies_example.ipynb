{
 "cells": [
  {
   "cell_type": "code",
   "execution_count": 1,
   "id": "4ce3b30f-fd08-403f-a947-a892749a902b",
   "metadata": {},
   "outputs": [],
   "source": [
    "from pyspark.ml.evaluation import RegressionEvaluator\n",
    "from pyspark.ml.recommendation import ALS\n",
    "from pyspark.sql import Row\n",
    "import pandas as pd"
   ]
  },
  {
   "cell_type": "code",
   "execution_count": 2,
   "id": "6561c3b3-fafe-4c51-b3e7-976bed1c51bd",
   "metadata": {},
   "outputs": [
    {
     "name": "stderr",
     "output_type": "stream",
     "text": [
      "24/08/30 21:39:38 WARN Utils: Your hostname, JPEnvy resolves to a loopback address: 127.0.1.1; using 10.255.255.254 instead (on interface lo)\n",
      "24/08/30 21:39:38 WARN Utils: Set SPARK_LOCAL_IP if you need to bind to another address\n",
      "Setting default log level to \"WARN\".\n",
      "To adjust logging level use sc.setLogLevel(newLevel). For SparkR, use setLogLevel(newLevel).\n",
      "24/08/30 21:39:39 WARN NativeCodeLoader: Unable to load native-hadoop library for your platform... using builtin-java classes where applicable\n"
     ]
    }
   ],
   "source": [
    "from pyspark.sql import SparkSession\n",
    "\n",
    "spark = SparkSession.builder \\\n",
    "    .appName(\"YourAppName\") \\\n",
    "    .getOrCreate()"
   ]
  },
  {
   "cell_type": "code",
   "execution_count": 3,
   "id": "1d3146e0-5a37-44ad-812f-b7a20a2e20d1",
   "metadata": {},
   "outputs": [],
   "source": [
    "\n",
    "lines = spark.read.text(\"sample_movielens_ratings.txt\").rdd\n",
    "parts = lines.map(lambda row: row.value.split(\"::\"))"
   ]
  },
  {
   "cell_type": "code",
   "execution_count": 3,
   "id": "9adf5347-a34b-43a8-a0dd-d4f7c9d14939",
   "metadata": {},
   "outputs": [
    {
     "name": "stderr",
     "output_type": "stream",
     "text": [
      "24/08/30 21:07:19 WARN InstanceBuilder: Failed to load implementation from:dev.ludovic.netlib.blas.JNIBLAS\n",
      "24/08/30 21:07:19 WARN InstanceBuilder: Failed to load implementation from:dev.ludovic.netlib.blas.VectorBLAS\n",
      "24/08/30 21:07:19 WARN InstanceBuilder: Failed to load implementation from:dev.ludovic.netlib.lapack.JNILAPACK\n"
     ]
    },
    {
     "name": "stdout",
     "output_type": "stream",
     "text": [
      "Root-mean-square error = 1.871181885766001\n"
     ]
    }
   ],
   "source": [
    "\n",
    "\n",
    "ratingsRDD = parts.map(lambda p: Row(userId=int(p[0]), movieId=int(p[1]),\n",
    "                                     rating=float(p[2]), timestamp=int(p[3])))\n",
    "ratings = spark.createDataFrame(ratingsRDD)\n",
    "(training, test) = ratings.randomSplit([0.8, 0.2])\n",
    "\n",
    "# Build the recommendation model using ALS on the training data\n",
    "# Note we set cold start strategy to 'drop' to ensure we don't get NaN evaluation metrics\n",
    "als = ALS(maxIter=5, regParam=0.01, userCol=\"userId\", itemCol=\"movieId\", ratingCol=\"rating\",\n",
    "          coldStartStrategy=\"drop\")\n",
    "model = als.fit(training)\n",
    "\n",
    "# Evaluate the model by computing the RMSE on the test data\n",
    "predictions = model.transform(test)\n",
    "evaluator = RegressionEvaluator(metricName=\"rmse\", labelCol=\"rating\",\n",
    "                                predictionCol=\"prediction\")\n",
    "rmse = evaluator.evaluate(predictions)\n",
    "print(\"Root-mean-square error = \" + str(rmse))\n",
    "\n",
    "# Generate top 10 movie recommendations for each user\n",
    "userRecs = model.recommendForAllUsers(10)\n",
    "# Generate top 10 user recommendations for each movie\n",
    "movieRecs = model.recommendForAllItems(10)\n",
    "\n",
    "# Generate top 10 movie recommendations for a specified set of users\n",
    "users = ratings.select(als.getUserCol()).distinct().limit(3)\n",
    "userSubsetRecs = model.recommendForUserSubset(users, 10)\n",
    "# Generate top 10 user recommendations for a specified set of movies\n",
    "movies = ratings.select(als.getItemCol()).distinct().limit(3)\n",
    "movieSubSetRecs = model.recommendForItemSubset(movies, 10)"
   ]
  },
  {
   "cell_type": "code",
   "execution_count": 4,
   "id": "c14792d3-57c2-4de6-8770-48e52728d9e1",
   "metadata": {},
   "outputs": [
    {
     "data": {
      "text/plain": [
       "ALS_afac1d079b8d"
      ]
     },
     "execution_count": 4,
     "metadata": {},
     "output_type": "execute_result"
    }
   ],
   "source": []
  },
  {
   "cell_type": "code",
   "execution_count": 5,
   "id": "95272aa8-3d1e-469a-9996-eee7f2cfc42f",
   "metadata": {},
   "outputs": [],
   "source": [
    "# from pyspark import SparkConf\n",
    "# from pyspark.sql import SparkSession\n",
    "# from pyspark.sql.functions import col, collect_list\n",
    "\n",
    "# import time\n",
    "\n",
    "\n",
    "# def create_spark_session() -> SparkSession:\n",
    "#     conf = SparkConf().set(\"spark.driver.memory\", \"8g\")\n",
    "\n",
    "#     spark_session = SparkSession\\\n",
    "#         .builder\\\n",
    "#         .master(\"local[4]\")\\\n",
    "#         .config(conf=conf)\\\n",
    "#         .appName(\"Spark UI Tutorial\") \\\n",
    "#         .getOrCreate()\n",
    "\n",
    "#     return spark_session\n",
    "\n",
    "\n",
    "# if __name__ == '__main__':\n",
    "\n",
    "#     spark = create_spark_session()\n",
    "\n",
    "#     test_df = spark.createDataFrame([\n",
    "#         (1, 'a'),\n",
    "#         (2, 'b'),\n",
    "#         (3, 'c'),\n",
    "#         (4, 'd'),\n",
    "#         (5, 'e'),\n",
    "#         (6, 'f'),\n",
    "#         (7, 'g'),\n",
    "#         (8, 'h'),\n",
    "#         (9, 'i'),\n",
    "#         (10, 'j')\n",
    "#     ], [\"number\", \"letter\"]).cache()\n",
    "\n",
    "#     test_df.show(truncate=False)\n",
    "\n",
    "#     test_df \\\n",
    "#         .withColumn(\"mod\", col(\"number\") % 2) \\\n",
    "#         .groupBy(\"mod\") \\\n",
    "#         .agg(collect_list(\"letter\").alias(\"letter\")) \\\n",
    "#         .show(truncate=False)\n",
    "\n",
    "#     # For UI to stick\n",
    "#     time.sleep(1000000)"
   ]
  },
  {
   "cell_type": "code",
   "execution_count": null,
   "id": "60f36e99-ff67-49e0-a287-748e9d5c1169",
   "metadata": {},
   "outputs": [],
   "source": []
  }
 ],
 "metadata": {
  "kernelspec": {
   "display_name": "Python 3 (ipykernel)",
   "language": "python",
   "name": "python3"
  },
  "language_info": {
   "codemirror_mode": {
    "name": "ipython",
    "version": 3
   },
   "file_extension": ".py",
   "mimetype": "text/x-python",
   "name": "python",
   "nbconvert_exporter": "python",
   "pygments_lexer": "ipython3",
   "version": "3.8.10"
  }
 },
 "nbformat": 4,
 "nbformat_minor": 5
}
